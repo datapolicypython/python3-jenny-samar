{
  "cells": [
    {
      "cell_type": "markdown",
      "metadata": {},
      "source": [
        "---\n",
        "title: \"30538 Problem Set 3: git pair\"\n",
        "author: \"Jenny Zhong\"\n",
        "format: \n",
        "  pdf:\n",
        "    keep-tex: true\n",
        "    include-in-header: \n",
        "       text: |\n",
        "         \\usepackage{fvextra}\n",
        "         \\DefineVerbatimEnvironment{Highlighting}{Verbatim}{breaklines,commandchars=\\\\\\{\\}}\n",
        "include-before-body:\n",
        "  text: |\n",
        "    \\RecustomVerbatimEnvironment{verbatim}{Verbatim}{\n",
        "      showspaces = false,\n",
        "      showtabs = false,\n",
        "      breaksymbolleft={},\n",
        "      breaklines\n",
        "    }\n",
        "---"
      ],
      "id": "c9477442"
    },
    {
      "cell_type": "code",
      "metadata": {},
      "source": [
        "import pandas as pd\n",
        "import numpy as np\n",
        "import altair as alt\n",
        "\n",
        "np.random.seed(42)\n",
        "data = pd.DataFrame(np.random.rand(100), columns=['Random Numbers'])\n",
        "\n",
        "def preview_data(df):\n",
        "    head = df.head()\n",
        "    head_data = df.head()  \n",
        "    description = df.describe()  \n",
        "    return [head_data, description]  \n",
        "result = preview_data(data)\n",
        "for item in result:\n",
        "    print(item, end='\\n\\n')\n",
        "\n",
        "    histogram = alt.Chart(df).mark_bar().encode(\n",
        "      x=alt.X('Random Numbers', bin=True),\n",
        "      y='count()'\n",
        "    ).properties(\n",
        "      title='Histogram of Random Numbers'\n",
        "    )\n",
        "    return [head, histogram]\n",
        "\n",
        "output = preview_data(data)\n",
        "output[0]\n",
        "output[1]"
      ],
      "id": "648b51e2",
      "execution_count": null,
      "outputs": []
    }
  ],
  "metadata": {
    "kernelspec": {
      "name": "python3",
      "language": "python",
      "display_name": "Python 3 (ipykernel)",
      "path": "/Users/samarnegahdar/Library/Python/3.9/share/jupyter/kernels/python3"
    }
  },
  "nbformat": 4,
  "nbformat_minor": 5
}